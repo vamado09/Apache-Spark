{
  "nbformat": 4,
  "nbformat_minor": 0,
  "metadata": {
    "colab": {
      "provenance": [],
      "toc_visible": true
    },
    "kernelspec": {
      "name": "python3",
      "display_name": "Python 3"
    },
    "language_info": {
      "name": "python"
    }
  },
  "cells": [
    {
      "cell_type": "markdown",
      "source": [
        "# Setting up PySpark enviorement in Colab"
      ],
      "metadata": {
        "id": "v5AVfkafrDt_"
      }
    },
    {
      "cell_type": "code",
      "execution_count": null,
      "metadata": {
        "id": "C75rYnALWiel"
      },
      "outputs": [],
      "source": [
        "!pip install pyspark py4j"
      ]
    },
    {
      "cell_type": "markdown",
      "source": [
        "# Loading Fake Data CSV into Spark DataFrame\n",
        "\n",
        "The loading Phase came from PySpark_HW1 because when I tried to use the `spark.read.csv()` from PySpark_HW3 it wasn't loading correctly. I had columns like: C_0 (_c0), C_1 (_c0) etc. Due to this, I decided to use the `spark.read.option('header', 'true')` to get the first rows as the DataFrame columns."
      ],
      "metadata": {
        "id": "jRubP6FzrKV5"
      }
    },
    {
      "cell_type": "code",
      "source": [
        "from pyspark.sql import SparkSession"
      ],
      "metadata": {
        "id": "RMMflijeYCnW"
      },
      "execution_count": 3,
      "outputs": []
    },
    {
      "cell_type": "code",
      "source": [
        "spark = SparkSession.builder.appName('DataFrame').getOrCreate()"
      ],
      "metadata": {
        "id": "DQvqN1OuYClj"
      },
      "execution_count": 4,
      "outputs": []
    },
    {
      "cell_type": "code",
      "source": [
        "#df = spark.read.csv('Fake_data.csv') # HW3 csv reading option (not working)\n",
        "#df.show(truncate = False)\n",
        "\n",
        "df = spark.read.option('header', 'true').csv('Fake_data.csv')\n",
        "df.show(n=5, truncate=False)"
      ],
      "metadata": {
        "colab": {
          "base_uri": "https://localhost:8080/"
        },
        "id": "QsltKhQOYCj4",
        "outputId": "4c8125b6-4b2f-4e5f-d779-09f8cea9ee67"
      },
      "execution_count": 7,
      "outputs": [
        {
          "output_type": "stream",
          "name": "stdout",
          "text": [
            "+---+----------------------+------------------------------+----------+------+-------------------------------------+---------+-------------+-----------+\n",
            "|_c0|Birth_Country         |Email                         |First_Name|Income|Job                                  |Last_name|Loan_Approved|SSN        |\n",
            "+---+----------------------+------------------------------+----------+------+-------------------------------------+---------+-------------+-----------+\n",
            "|0  |Bosnia and Herzegovina|emily15@whitehead.com         |Melissa   |109957|Telecommunications researcher        |Miranda  |False        |129-41-7773|\n",
            "|1  |Belgium               |ronald87@yahoo.com            |Curtis    |301884|Animal nutritionist                  |Garrett  |True         |212-74-3976|\n",
            "|2  |United Kingdom        |hannah29@gmail.com            |Connor    |341584|English as a foreign language teacher|Steele   |False        |024-35-3834|\n",
            "|3  |Kiribati              |derrick59@hotmail.com         |Adam      |448293|Surveyor, commercial/residential     |Newman   |False        |157-82-4486|\n",
            "|4  |Malaysia              |wendycarpenter@walker-knox.com|Jared     |53621 |Drilling engineer                    |Mann     |True         |199-56-2824|\n",
            "+---+----------------------+------------------------------+----------+------+-------------------------------------+---------+-------------+-----------+\n",
            "only showing top 5 rows\n",
            "\n"
          ]
        }
      ]
    },
    {
      "cell_type": "code",
      "source": [
        "df.printSchema() # This helps understanding the DF structure"
      ],
      "metadata": {
        "colab": {
          "base_uri": "https://localhost:8080/"
        },
        "id": "DQaoaSYviXYZ",
        "outputId": "577f98f6-b421-4f7c-e498-a5cd0333a1f4"
      },
      "execution_count": null,
      "outputs": [
        {
          "output_type": "stream",
          "name": "stdout",
          "text": [
            "root\n",
            " |-- _c0: string (nullable = true)\n",
            " |-- Birth_Country: string (nullable = true)\n",
            " |-- Email: string (nullable = true)\n",
            " |-- First_Name: string (nullable = true)\n",
            " |-- Income: string (nullable = true)\n",
            " |-- Job: string (nullable = true)\n",
            " |-- Last_name: string (nullable = true)\n",
            " |-- Loan_Approved: string (nullable = true)\n",
            " |-- SSN: string (nullable = true)\n",
            "\n"
          ]
        }
      ]
    },
    {
      "cell_type": "markdown",
      "source": [
        "Transformations & Actions:\n",
        "\n",
        "`Transformation`: Transformation refers to the operation applied on a RDD to create new RDD. Filter, groupBy and map are the examples of transformations.\n",
        "\n",
        "`Actions`: Actions refer to an operation which also applies on RDD, that instructs Spark to perform computation and send the result back to driver.\n",
        "\n",
        "I am going to be creating a temporary table named “Fake_data_temp” so I can practice with the Spark SQL API and use SQL Syntax. The idea behind this was to use a couple of things from last homework and to also practice some SQL syntax. It is important to mentioned that many a few syntax/notes (SQLite Syntax) were taken from “Applied Database Technologies” class with Professor Olga Scrivner. PySpark with SQL API HW4 uses common SQL Syntax to achieve results."
      ],
      "metadata": {
        "id": "Ei8usEJ75qfL"
      }
    },
    {
      "cell_type": "markdown",
      "source": [
        "# Question 1\n",
        "Find birth country which has highest amount of people."
      ],
      "metadata": {
        "id": "qa-hHjO6gTs5"
      }
    },
    {
      "cell_type": "code",
      "source": [
        "def_temp = df.createOrReplaceTempView('Fake_data_temp')"
      ],
      "metadata": {
        "id": "5VYI6wZPk1Xt"
      },
      "execution_count": 8,
      "outputs": []
    },
    {
      "cell_type": "code",
      "source": [
        "# Checking if temporary table exists or not\n",
        "table_exists = spark.catalog.tableExists('Fake_data_temp')\n",
        "\n",
        "if table_exists:\n",
        "    print('Fake_data_temp exists')\n",
        "else:\n",
        "    print('Fake_data_temp does not exist')"
      ],
      "metadata": {
        "colab": {
          "base_uri": "https://localhost:8080/"
        },
        "id": "1KU6qS2Gk1VX",
        "outputId": "49e54a54-5309-4d9a-a9bb-9f89679d8646"
      },
      "execution_count": 9,
      "outputs": [
        {
          "output_type": "stream",
          "name": "stdout",
          "text": [
            "Fake_data_temp exists\n"
          ]
        }
      ]
    },
    {
      "cell_type": "markdown",
      "source": [
        "SQLite Syntax example from Applied Database Technologies:\n",
        "It doesn't matter if you decide to the write the syntax in caps lock or not."
      ],
      "metadata": {
        "id": "K0J1hLQEuhtZ"
      }
    },
    {
      "cell_type": "markdown",
      "source": [
        "![image.png](data:image/png;base64,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)"
      ],
      "metadata": {
        "id": "FVbwM9-DuE2z"
      }
    },
    {
      "cell_type": "markdown",
      "source": [
        "`query_1` shows the implementation of spark.sql and how do we select and count all records in Birth_Country, after that we assign the alias Total_Country to it.  Then we proceed to group be Birth_Country and order it by Total_Country in descending order. Limit 1 is used to get the first row of the sorted Total_Country DESC. It's also worth mentioning that the first() function will return the  first value of the selected column."
      ],
      "metadata": {
        "id": "PU2WLhw1xHeu"
      }
    },
    {
      "cell_type": "code",
      "source": [
        "query_1 = spark.sql('''\n",
        "      SELECT Birth_Country, COUNT(*) AS Total_Country\n",
        "      FROM Fake_data_temp\n",
        "      GROUP BY Birth_Country\n",
        "      ORDER By Total_Country DESC\n",
        "      LIMIT 1;\n",
        "''')"
      ],
      "metadata": {
        "id": "6WXcJ9aIk1S0"
      },
      "execution_count": null,
      "outputs": []
    },
    {
      "cell_type": "code",
      "source": [
        "query_1.show(truncate=False)"
      ],
      "metadata": {
        "colab": {
          "base_uri": "https://localhost:8080/"
        },
        "id": "i5ZO96kY8gS8",
        "outputId": "197c799d-6cf7-47a7-d8ce-affb05bf41a5"
      },
      "execution_count": null,
      "outputs": [
        {
          "output_type": "stream",
          "name": "stdout",
          "text": [
            "+-------------+-------------+\n",
            "|Birth_Country|Total_Country|\n",
            "+-------------+-------------+\n",
            "|Korea        |91           |\n",
            "+-------------+-------------+\n",
            "\n"
          ]
        }
      ]
    },
    {
      "cell_type": "code",
      "source": [
        "query1 = query_1.first()['Birth_Country'] # get the first value of the Birth_Country column from first row of query_1\n",
        "\n",
        "print('Country with the highest amount of people is:', query1)"
      ],
      "metadata": {
        "colab": {
          "base_uri": "https://localhost:8080/"
        },
        "id": "UXTY9wJ68t9L",
        "outputId": "50c0ef90-035f-4612-a1ec-ac67c0479403"
      },
      "execution_count": null,
      "outputs": [
        {
          "output_type": "stream",
          "name": "stdout",
          "text": [
            "Country with the highest amount of people is: Korea\n"
          ]
        }
      ]
    },
    {
      "cell_type": "code",
      "source": [
        "query1_sql = query_1.first()[0]\n",
        "print('Country with the highest amount of people is:', query1_sql)"
      ],
      "metadata": {
        "colab": {
          "base_uri": "https://localhost:8080/"
        },
        "id": "-P_95Ju07O7Z",
        "outputId": "85eb7346-0d87-4ec7-a253-579e3b1316de"
      },
      "execution_count": null,
      "outputs": [
        {
          "output_type": "stream",
          "name": "stdout",
          "text": [
            "Country with the highest amount of people is: Korea\n"
          ]
        }
      ]
    },
    {
      "cell_type": "markdown",
      "source": [
        "## New Code Transformations and Actions\n",
        "\n",
        "We are still using the temporary table -> Fake_data_temp"
      ],
      "metadata": {
        "id": "HVA_mOpv9tSu"
      }
    },
    {
      "cell_type": "code",
      "source": [
        "# Spark.sql -> also transformation\n",
        "# new query\n",
        "new_query1 = spark.sql('''\n",
        "      SELECT Birth_Country, COUNT(*) AS Total_Country\n",
        "      FROM Fake_data_temp\n",
        "      GROUP BY Birth_Country;\n",
        "''')\n",
        "\n",
        "transf1 = new_query1.orderBy(new_query1.Total_Country.desc()) # transformation\n",
        "\n",
        "results_q1 = transf1.collect() # action\n",
        "\n",
        "top_country = results_q1[0] # action\n",
        "\n",
        "print(top_country)"
      ],
      "metadata": {
        "colab": {
          "base_uri": "https://localhost:8080/"
        },
        "id": "ZeXezyL4-vF0",
        "outputId": "0de7152b-722b-4415-8253-99f6c314835d"
      },
      "execution_count": 10,
      "outputs": [
        {
          "output_type": "stream",
          "name": "stdout",
          "text": [
            "Row(Birth_Country='Korea', Total_Country=91)\n"
          ]
        }
      ]
    },
    {
      "cell_type": "code",
      "source": [
        "new_query1 = spark.sql('''\n",
        "      SELECT Birth_Country, COUNT(*) AS Total_Country\n",
        "      FROM Fake_data_temp\n",
        "      GROUP BY Birth_Country;\n",
        "''')\n",
        "\n",
        "# We can aslo have something like this (reference PySpark desc() and collect()):\n",
        "transf_act1 = new_query1.orderBy(new_query1.Total_Country.desc()).collect() # transformation and action\n",
        "top_country = transf_act1[0] # action\n",
        "\n",
        "print(top_country)"
      ],
      "metadata": {
        "colab": {
          "base_uri": "https://localhost:8080/"
        },
        "id": "VYGAvUjg_iTn",
        "outputId": "a3733c9b-a8e7-451b-cbfa-5d71a6e34ff1"
      },
      "execution_count": 12,
      "outputs": [
        {
          "output_type": "stream",
          "name": "stdout",
          "text": [
            "Row(Birth_Country='Korea', Total_Country=91)\n"
          ]
        }
      ]
    },
    {
      "cell_type": "markdown",
      "source": [
        "# Question 2\n",
        "\n",
        "Find Maximum income in each country  and display the countries from highest to lowest Income.\n",
        "\n",
        "The code `query_2` is straight forward, we select Birth_Country and Income from the DataFrame and assigned an alias to the MAX(Income) names Maximum_Income. We group by Birth_Country and order by Maximum_Income in descending order. We store the new DataFrame in a variable called maximum_income_df and show results from highest to lowest."
      ],
      "metadata": {
        "id": "aTd_wfuf0ElK"
      }
    },
    {
      "cell_type": "code",
      "source": [
        "# transformation\n",
        "query_2 = spark.sql('''\n",
        "      SELECT Birth_Country, MAX(Income) AS Maximum_Income\n",
        "      FROM Fake_data_temp\n",
        "      GROUP BY Birth_Country\n",
        "      ORDER BY Maximum_Income DESC;\n",
        "''')\n",
        "\n",
        "maximum_income_df = query_2 # storing query_2 dataframe into new variable\n",
        "\n",
        "maximum_income_df.show(truncate=False)"
      ],
      "metadata": {
        "colab": {
          "base_uri": "https://localhost:8080/"
        },
        "id": "LHXoGPyxlhSq",
        "outputId": "6867e534-80d9-4809-e41b-95e4991bc891"
      },
      "execution_count": 14,
      "outputs": [
        {
          "output_type": "stream",
          "name": "stdout",
          "text": [
            "+--------------------------------------------+--------------+\n",
            "|Birth_Country                               |Maximum_Income|\n",
            "+--------------------------------------------+--------------+\n",
            "|Denmark                                     |99900         |\n",
            "|Madagascar                                  |99895         |\n",
            "|Cayman Islands                              |99731         |\n",
            "|Chad                                        |99721         |\n",
            "|Angola                                      |9961          |\n",
            "|Falkland Islands (Malvinas)                 |9939          |\n",
            "|Korea                                       |99374         |\n",
            "|United States Minor Outlying Islands        |99334         |\n",
            "|Uganda                                      |99315         |\n",
            "|Brazil                                      |99311         |\n",
            "|Antarctica (the territory South of 60 deg S)|99309         |\n",
            "|Nepal                                       |99284         |\n",
            "|Oman                                        |99283         |\n",
            "|Romania                                     |99260         |\n",
            "|Holy See (Vatican City State)               |99259         |\n",
            "|Guernsey                                    |99212         |\n",
            "|Haiti                                       |99209         |\n",
            "|Bermuda                                     |99183         |\n",
            "|United Kingdom                              |98970         |\n",
            "|Seychelles                                  |98950         |\n",
            "+--------------------------------------------+--------------+\n",
            "only showing top 20 rows\n",
            "\n"
          ]
        }
      ]
    },
    {
      "cell_type": "markdown",
      "source": [
        "## New Code Transformations and Actions\n",
        "\n",
        "We are still using the temporary table -> Fake_data_temp"
      ],
      "metadata": {
        "id": "sS8q-6CwAEQP"
      }
    },
    {
      "cell_type": "code",
      "source": [
        "max_income = query_2.withColumnRenamed('Maximum_Income', 'MAX_Income') # transformation lets renamed to MAX_Income\n",
        "\n",
        "transf2 = max_income.orderBy(max_income.MAX_Income.desc()) # transformation\n",
        "\n",
        "results_q2 = transf2.collect() # action\n",
        "\n",
        "for row in results_q2:\n",
        "    print(row)"
      ],
      "metadata": {
        "colab": {
          "base_uri": "https://localhost:8080/"
        },
        "id": "hHSGKRvroW3R",
        "outputId": "141575ca-7ee6-4b70-ed5f-e0eea09e375e"
      },
      "execution_count": 15,
      "outputs": [
        {
          "output_type": "stream",
          "name": "stdout",
          "text": [
            "Row(Birth_Country='Denmark', MAX_Income='99900')\n",
            "Row(Birth_Country='Madagascar', MAX_Income='99895')\n",
            "Row(Birth_Country='Cayman Islands', MAX_Income='99731')\n",
            "Row(Birth_Country='Chad', MAX_Income='99721')\n",
            "Row(Birth_Country='Angola', MAX_Income='9961')\n",
            "Row(Birth_Country='Falkland Islands (Malvinas)', MAX_Income='9939')\n",
            "Row(Birth_Country='Korea', MAX_Income='99374')\n",
            "Row(Birth_Country='United States Minor Outlying Islands', MAX_Income='99334')\n",
            "Row(Birth_Country='Uganda', MAX_Income='99315')\n",
            "Row(Birth_Country='Brazil', MAX_Income='99311')\n",
            "Row(Birth_Country='Antarctica (the territory South of 60 deg S)', MAX_Income='99309')\n",
            "Row(Birth_Country='Nepal', MAX_Income='99284')\n",
            "Row(Birth_Country='Oman', MAX_Income='99283')\n",
            "Row(Birth_Country='Romania', MAX_Income='99260')\n",
            "Row(Birth_Country='Holy See (Vatican City State)', MAX_Income='99259')\n",
            "Row(Birth_Country='Guernsey', MAX_Income='99212')\n",
            "Row(Birth_Country='Haiti', MAX_Income='99209')\n",
            "Row(Birth_Country='Bermuda', MAX_Income='99183')\n",
            "Row(Birth_Country='United Kingdom', MAX_Income='98970')\n",
            "Row(Birth_Country='Seychelles', MAX_Income='98950')\n",
            "Row(Birth_Country='Gabon', MAX_Income='98920')\n",
            "Row(Birth_Country='Turks and Caicos Islands', MAX_Income='98807')\n",
            "Row(Birth_Country='Lebanon', MAX_Income='98785')\n",
            "Row(Birth_Country='Montserrat', MAX_Income='98770')\n",
            "Row(Birth_Country='Liechtenstein', MAX_Income='98608')\n",
            "Row(Birth_Country='Saint Vincent and the Grenadines', MAX_Income='98587')\n",
            "Row(Birth_Country='Qatar', MAX_Income='98575')\n",
            "Row(Birth_Country='Pitcairn Islands', MAX_Income='98561')\n",
            "Row(Birth_Country='Portugal', MAX_Income='98559')\n",
            "Row(Birth_Country='Christmas Island', MAX_Income='98522')\n",
            "Row(Birth_Country='India', MAX_Income='98457')\n",
            "Row(Birth_Country='Reunion', MAX_Income='9842')\n",
            "Row(Birth_Country='Burkina Faso', MAX_Income='98348')\n",
            "Row(Birth_Country='Montenegro', MAX_Income='98341')\n",
            "Row(Birth_Country='Guadeloupe', MAX_Income='98289')\n",
            "Row(Birth_Country='Zimbabwe', MAX_Income='98241')\n",
            "Row(Birth_Country='Swaziland', MAX_Income='98176')\n",
            "Row(Birth_Country='Timor-Leste', MAX_Income='98028')\n",
            "Row(Birth_Country='Cape Verde', MAX_Income='98027')\n",
            "Row(Birth_Country='Spain', MAX_Income='98021')\n",
            "Row(Birth_Country='Saudi Arabia', MAX_Income='97940')\n",
            "Row(Birth_Country='Slovenia', MAX_Income='9788')\n",
            "Row(Birth_Country='South Africa', MAX_Income='97651')\n",
            "Row(Birth_Country='Burundi', MAX_Income='97557')\n",
            "Row(Birth_Country='Mexico', MAX_Income='97504')\n",
            "Row(Birth_Country='Indonesia', MAX_Income='97475')\n",
            "Row(Birth_Country='Trinidad and Tobago', MAX_Income='97475')\n",
            "Row(Birth_Country='Saint Lucia', MAX_Income='97466')\n",
            "Row(Birth_Country='Serbia', MAX_Income='97412')\n",
            "Row(Birth_Country='Japan', MAX_Income='97276')\n",
            "Row(Birth_Country='Pakistan', MAX_Income='97237')\n",
            "Row(Birth_Country='Congo', MAX_Income='97020')\n",
            "Row(Birth_Country='Ireland', MAX_Income='96912')\n",
            "Row(Birth_Country='Luxembourg', MAX_Income='96690')\n",
            "Row(Birth_Country='Rwanda', MAX_Income='96687')\n",
            "Row(Birth_Country=\"Lao People's Democratic Republic\", MAX_Income='96633')\n",
            "Row(Birth_Country='Costa Rica', MAX_Income='96569')\n",
            "Row(Birth_Country='Belarus', MAX_Income='96547')\n",
            "Row(Birth_Country='Nicaragua', MAX_Income='96540')\n",
            "Row(Birth_Country='Cyprus', MAX_Income='9639')\n",
            "Row(Birth_Country='Philippines', MAX_Income='96248')\n",
            "Row(Birth_Country='Jamaica', MAX_Income='96239')\n",
            "Row(Birth_Country='Kenya', MAX_Income='96138')\n",
            "Row(Birth_Country='Saint Barthelemy', MAX_Income='96065')\n",
            "Row(Birth_Country='Northern Mariana Islands', MAX_Income='95953')\n",
            "Row(Birth_Country='Mozambique', MAX_Income='95921')\n",
            "Row(Birth_Country='Palau', MAX_Income='9591')\n",
            "Row(Birth_Country='Lesotho', MAX_Income='95882')\n",
            "Row(Birth_Country='Netherlands', MAX_Income='95882')\n",
            "Row(Birth_Country='Wallis and Futuna', MAX_Income='95849')\n",
            "Row(Birth_Country='Libyan Arab Jamahiriya', MAX_Income='95808')\n",
            "Row(Birth_Country='Netherlands Antilles', MAX_Income='95760')\n",
            "Row(Birth_Country='Brunei Darussalam', MAX_Income='95693')\n",
            "Row(Birth_Country='British Indian Ocean Territory (Chagos Archipelago)', MAX_Income='95384')\n",
            "Row(Birth_Country='Saint Kitts and Nevis', MAX_Income='95322')\n",
            "Row(Birth_Country='Macao', MAX_Income='95273')\n",
            "Row(Birth_Country='Svalbard & Jan Mayen Islands', MAX_Income='95250')\n",
            "Row(Birth_Country='Panama', MAX_Income='95135')\n",
            "Row(Birth_Country='Heard Island and McDonald Islands', MAX_Income='95117')\n",
            "Row(Birth_Country='Andorra', MAX_Income='95048')\n",
            "Row(Birth_Country='Turkmenistan', MAX_Income='95035')\n",
            "Row(Birth_Country='United States Virgin Islands', MAX_Income='9500')\n",
            "Row(Birth_Country='Bahamas', MAX_Income='94980')\n",
            "Row(Birth_Country='Yemen', MAX_Income='94909')\n",
            "Row(Birth_Country='Mongolia', MAX_Income='94833')\n",
            "Row(Birth_Country='Isle of Man', MAX_Income='94818')\n",
            "Row(Birth_Country='Guatemala', MAX_Income='94726')\n",
            "Row(Birth_Country='Bangladesh', MAX_Income='94636')\n",
            "Row(Birth_Country='Nigeria', MAX_Income='94542')\n",
            "Row(Birth_Country='Marshall Islands', MAX_Income='94489')\n",
            "Row(Birth_Country='Equatorial Guinea', MAX_Income='94422')\n",
            "Row(Birth_Country='Saint Helena', MAX_Income='94232')\n",
            "Row(Birth_Country='Tajikistan', MAX_Income='94227')\n",
            "Row(Birth_Country='French Polynesia', MAX_Income='94207')\n",
            "Row(Birth_Country='Fiji', MAX_Income='9402')\n",
            "Row(Birth_Country='Uruguay', MAX_Income='93955')\n",
            "Row(Birth_Country='Anguilla', MAX_Income='93942')\n",
            "Row(Birth_Country='Poland', MAX_Income='93814')\n",
            "Row(Birth_Country='Belgium', MAX_Income='93805')\n",
            "Row(Birth_Country='Tonga', MAX_Income='93767')\n",
            "Row(Birth_Country='Israel', MAX_Income='93758')\n",
            "Row(Birth_Country='Greenland', MAX_Income='93756')\n",
            "Row(Birth_Country='Barbados', MAX_Income='93744')\n",
            "Row(Birth_Country='Czech Republic', MAX_Income='93718')\n",
            "Row(Birth_Country='Sierra Leone', MAX_Income='93602')\n",
            "Row(Birth_Country='Austria', MAX_Income='93340')\n",
            "Row(Birth_Country='Eritrea', MAX_Income='93266')\n",
            "Row(Birth_Country='Armenia', MAX_Income='93220')\n",
            "Row(Birth_Country='Venezuela', MAX_Income='93217')\n",
            "Row(Birth_Country='Samoa', MAX_Income='93150')\n",
            "Row(Birth_Country='New Caledonia', MAX_Income='93120')\n",
            "Row(Birth_Country='Ethiopia', MAX_Income='9310')\n",
            "Row(Birth_Country='Antigua and Barbuda', MAX_Income='92900')\n",
            "Row(Birth_Country='Mauritania', MAX_Income='92889')\n",
            "Row(Birth_Country='France', MAX_Income='9288')\n",
            "Row(Birth_Country='Moldova', MAX_Income='9271')\n",
            "Row(Birth_Country='Kuwait', MAX_Income='9262')\n",
            "Row(Birth_Country='Georgia', MAX_Income='9260')\n",
            "Row(Birth_Country='Vietnam', MAX_Income='92523')\n",
            "Row(Birth_Country='Malta', MAX_Income='92413')\n",
            "Row(Birth_Country='Slovakia (Slovak Republic)', MAX_Income='92367')\n",
            "Row(Birth_Country='Colombia', MAX_Income='92353')\n",
            "Row(Birth_Country='Western Sahara', MAX_Income='92335')\n",
            "Row(Birth_Country='San Marino', MAX_Income='92235')\n",
            "Row(Birth_Country='South Georgia and the South Sandwich Islands', MAX_Income='92132')\n",
            "Row(Birth_Country='Gibraltar', MAX_Income='9213')\n",
            "Row(Birth_Country='Mauritius', MAX_Income='9212')\n",
            "Row(Birth_Country='Comoros', MAX_Income='91552')\n",
            "Row(Birth_Country='Algeria', MAX_Income='91432')\n",
            "Row(Birth_Country='Guam', MAX_Income='91322')\n",
            "Row(Birth_Country='Botswana', MAX_Income='91087')\n",
            "Row(Birth_Country='Myanmar', MAX_Income='91003')\n",
            "Row(Birth_Country='Puerto Rico', MAX_Income='90660')\n",
            "Row(Birth_Country='Central African Republic', MAX_Income='90658')\n",
            "Row(Birth_Country='Aruba', MAX_Income='90544')\n",
            "Row(Birth_Country='Vanuatu', MAX_Income='90522')\n",
            "Row(Birth_Country='Cook Islands', MAX_Income='90481')\n",
            "Row(Birth_Country='Bouvet Island (Bouvetoya)', MAX_Income='90469')\n",
            "Row(Birth_Country='Niger', MAX_Income='90460')\n",
            "Row(Birth_Country='Faroe Islands', MAX_Income='90431')\n",
            "Row(Birth_Country='Namibia', MAX_Income='90415')\n",
            "Row(Birth_Country='Guinea-Bissau', MAX_Income='90261')\n",
            "Row(Birth_Country='Italy', MAX_Income='90234')\n",
            "Row(Birth_Country='Iraq', MAX_Income='90232')\n",
            "Row(Birth_Country='Benin', MAX_Income='90151')\n",
            "Row(Birth_Country='Afghanistan', MAX_Income='90058')\n",
            "Row(Birth_Country='Tunisia', MAX_Income='90051')\n",
            "Row(Birth_Country='Cambodia', MAX_Income='90044')\n",
            "Row(Birth_Country='Kazakhstan', MAX_Income='89999')\n",
            "Row(Birth_Country='Norway', MAX_Income='89975')\n",
            "Row(Birth_Country='Chile', MAX_Income='89890')\n",
            "Row(Birth_Country='Cameroon', MAX_Income='89763')\n",
            "Row(Birth_Country='Malawi', MAX_Income='89450')\n",
            "Row(Birth_Country='Canada', MAX_Income='89286')\n",
            "Row(Birth_Country='Niue', MAX_Income='89219')\n",
            "Row(Birth_Country='Zambia', MAX_Income='8908')\n",
            "Row(Birth_Country='Honduras', MAX_Income='89056')\n",
            "Row(Birth_Country='Latvia', MAX_Income='89028')\n",
            "Row(Birth_Country='China', MAX_Income='89021')\n",
            "Row(Birth_Country='Djibouti', MAX_Income='88991')\n",
            "Row(Birth_Country='Saint Pierre and Miquelon', MAX_Income='88960')\n",
            "Row(Birth_Country='Egypt', MAX_Income='88824')\n",
            "Row(Birth_Country='Bolivia', MAX_Income='88755')\n",
            "Row(Birth_Country='Cuba', MAX_Income='88727')\n",
            "Row(Birth_Country='Albania', MAX_Income='88510')\n",
            "Row(Birth_Country='American Samoa', MAX_Income='88403')\n",
            "Row(Birth_Country='Greece', MAX_Income='88282')\n",
            "Row(Birth_Country='Russian Federation', MAX_Income='88139')\n",
            "Row(Birth_Country='Jordan', MAX_Income='87908')\n",
            "Row(Birth_Country='Azerbaijan', MAX_Income='87513')\n",
            "Row(Birth_Country='Germany', MAX_Income='87510')\n",
            "Row(Birth_Country='Croatia', MAX_Income='87486')\n",
            "Row(Birth_Country='United Arab Emirates', MAX_Income='87240')\n",
            "Row(Birth_Country='Micronesia', MAX_Income='87216')\n",
            "Row(Birth_Country='Paraguay', MAX_Income='87019')\n",
            "Row(Birth_Country='Thailand', MAX_Income='86887')\n",
            "Row(Birth_Country='Morocco', MAX_Income='86154')\n",
            "Row(Birth_Country='Liberia', MAX_Income='86134')\n",
            "Row(Birth_Country='Malaysia', MAX_Income='86113')\n",
            "Row(Birth_Country='Hungary', MAX_Income='86103')\n",
            "Row(Birth_Country='Dominican Republic', MAX_Income='8604')\n",
            "Row(Birth_Country='Singapore', MAX_Income='86024')\n",
            "Row(Birth_Country='Cocos (Keeling) Islands', MAX_Income='85998')\n",
            "Row(Birth_Country='Senegal', MAX_Income='85842')\n",
            "Row(Birth_Country='Finland', MAX_Income='85801')\n",
            "Row(Birth_Country='Guinea', MAX_Income='85349')\n",
            "Row(Birth_Country='Monaco', MAX_Income='85181')\n",
            "Row(Birth_Country='Nauru', MAX_Income='84837')\n",
            "Row(Birth_Country='Saint Martin', MAX_Income='84445')\n",
            "Row(Birth_Country='Iran', MAX_Income='84377')\n",
            "Row(Birth_Country='Macedonia', MAX_Income='83666')\n",
            "Row(Birth_Country='Bhutan', MAX_Income='83595')\n",
            "Row(Birth_Country='Estonia', MAX_Income='83591')\n",
            "Row(Birth_Country='French Southern Territories', MAX_Income='82940')\n",
            "Row(Birth_Country='Mayotte', MAX_Income='81780')\n",
            "Row(Birth_Country='Switzerland', MAX_Income='81562')\n",
            "Row(Birth_Country='Togo', MAX_Income='81450')\n",
            "Row(Birth_Country='Peru', MAX_Income='80302')\n",
            "Row(Birth_Country='Kyrgyz Republic', MAX_Income='79509')\n",
            "Row(Birth_Country='Ghana', MAX_Income='79341')\n",
            "Row(Birth_Country='Uzbekistan', MAX_Income='78819')\n",
            "Row(Birth_Country='Bosnia and Herzegovina', MAX_Income='78595')\n",
            "Row(Birth_Country='Kiribati', MAX_Income='7813')\n",
            "Row(Birth_Country='Sudan', MAX_Income='77960')\n",
            "Row(Birth_Country='Grenada', MAX_Income='7791')\n",
            "Row(Birth_Country='British Virgin Islands', MAX_Income='7739')\n",
            "Row(Birth_Country='New Zealand', MAX_Income='77112')\n",
            "Row(Birth_Country='Papua New Guinea', MAX_Income='7692')\n",
            "Row(Birth_Country='Palestinian Territory', MAX_Income='76838')\n",
            "Row(Birth_Country='French Guiana', MAX_Income='75979')\n",
            "Row(Birth_Country='El Salvador', MAX_Income='75977')\n",
            "Row(Birth_Country='Ukraine', MAX_Income='75432')\n",
            "Row(Birth_Country='Martinique', MAX_Income='74901')\n",
            "Row(Birth_Country='Belize', MAX_Income='74809')\n",
            "Row(Birth_Country='United States of America', MAX_Income='7477')\n",
            "Row(Birth_Country='Solomon Islands', MAX_Income='74044')\n",
            "Row(Birth_Country='Taiwan', MAX_Income='7404')\n",
            "Row(Birth_Country='Bulgaria', MAX_Income='73874')\n",
            "Row(Birth_Country='Gambia', MAX_Income='73369')\n",
            "Row(Birth_Country='Dominica', MAX_Income='73252')\n",
            "Row(Birth_Country='Syrian Arab Republic', MAX_Income='73038')\n",
            "Row(Birth_Country='Turkey', MAX_Income='72615')\n",
            "Row(Birth_Country='Tuvalu', MAX_Income='71338')\n",
            "Row(Birth_Country='Iceland', MAX_Income='71281')\n",
            "Row(Birth_Country='Somalia', MAX_Income='70925')\n",
            "Row(Birth_Country='Bahrain', MAX_Income='70885')\n",
            "Row(Birth_Country='Sao Tome and Principe', MAX_Income='70628')\n",
            "Row(Birth_Country='Guyana', MAX_Income='70054')\n",
            "Row(Birth_Country='Hong Kong', MAX_Income='69970')\n",
            "Row(Birth_Country='Ecuador', MAX_Income='69615')\n",
            "Row(Birth_Country='Lithuania', MAX_Income='68516')\n",
            "Row(Birth_Country='Argentina', MAX_Income='68085')\n",
            "Row(Birth_Country='Sweden', MAX_Income='66487')\n",
            "Row(Birth_Country='Sri Lanka', MAX_Income='65946')\n",
            "Row(Birth_Country='Jersey', MAX_Income='6521')\n",
            "Row(Birth_Country='Norfolk Island', MAX_Income='65154')\n",
            "Row(Birth_Country='Mali', MAX_Income='64318')\n",
            "Row(Birth_Country='Tokelau', MAX_Income='63567')\n",
            "Row(Birth_Country='Maldives', MAX_Income='63456')\n",
            "Row(Birth_Country='Australia', MAX_Income='59486')\n",
            "Row(Birth_Country=\"Cote d'Ivoire\", MAX_Income='52725')\n",
            "Row(Birth_Country='Suriname', MAX_Income='491763')\n",
            "Row(Birth_Country='Tanzania', MAX_Income='485935')\n"
          ]
        }
      ]
    },
    {
      "cell_type": "markdown",
      "source": [
        "# Question 3\n",
        "\n",
        "How many people has income over 100,000 but their loan is approved.\n",
        "\n",
        "\n",
        "`query_3` follows kind of the same approach as query_1, but in much simpler way. We select the count of the records satisfied by the “where” clause and assign it to alias People. The “and” clause is the expand the task and find the Income greater than 100000 and Loan_Approved equals to True to get the result. Just like query_1, first() function is implemented to get the first value of the column People."
      ],
      "metadata": {
        "id": "uur1xN6R6pww"
      }
    },
    {
      "cell_type": "code",
      "source": [
        "# transformation\n",
        "query_3 = spark.sql('''\n",
        "      SELECT COUNT(*) AS People\n",
        "      FROM Fake_data_temp\n",
        "      WHERE Income > 100000\n",
        "      AND Loan_Approved = 'True';\n",
        "''')"
      ],
      "metadata": {
        "id": "xQbb5-kt6rKP"
      },
      "execution_count": 17,
      "outputs": []
    },
    {
      "cell_type": "code",
      "source": [
        "query_3.show(truncate=False)"
      ],
      "metadata": {
        "colab": {
          "base_uri": "https://localhost:8080/"
        },
        "id": "enQkANu_9MLU",
        "outputId": "b3695709-f7c2-45b0-bf59-f2191bfe245f"
      },
      "execution_count": null,
      "outputs": [
        {
          "output_type": "stream",
          "name": "stdout",
          "text": [
            "+------+\n",
            "|People|\n",
            "+------+\n",
            "|3958  |\n",
            "+------+\n",
            "\n"
          ]
        }
      ]
    },
    {
      "cell_type": "code",
      "source": [
        "query3 = query_3.first()['People'] # get the first value of the People column from first row of query_3\n",
        "\n",
        "print('How many people has income over 100,000 but their loan is approved?', query3, 'people.')"
      ],
      "metadata": {
        "colab": {
          "base_uri": "https://localhost:8080/"
        },
        "id": "i6mt8YDF9R6x",
        "outputId": "57d9ecf4-8b00-445b-d433-608b62ebb806"
      },
      "execution_count": null,
      "outputs": [
        {
          "output_type": "stream",
          "name": "stdout",
          "text": [
            "How many people has income over 100,000 but their loan is approved? 3958 people.\n"
          ]
        }
      ]
    },
    {
      "cell_type": "code",
      "source": [
        "query3_sql = query_3.first()[0]\n",
        "\n",
        "print('How many people has income over 100,000 but their loan is approved?', query3_sql, 'people.')"
      ],
      "metadata": {
        "colab": {
          "base_uri": "https://localhost:8080/"
        },
        "id": "T24gIK7G9WU0",
        "outputId": "4c9edccd-fe32-4361-c24f-5b1fafdb9f46"
      },
      "execution_count": null,
      "outputs": [
        {
          "output_type": "stream",
          "name": "stdout",
          "text": [
            "How many people has income over 100,000 but their loan is approved? 3958 people.\n"
          ]
        }
      ]
    },
    {
      "cell_type": "markdown",
      "source": [
        "## New Code Transformations and Actions\n",
        "\n",
        "We are still using the temporary table -> Fake_data_temp"
      ],
      "metadata": {
        "id": "y5BX2yJCBYgk"
      }
    },
    {
      "cell_type": "code",
      "source": [
        "transf3 = query_3.withColumnRenamed('People', 'People_Income_over_100k_Loan_Approved') # transformation\n",
        "\n",
        "results_q3 = transf3.collect() # action\n",
        "\n",
        "people_count = results_q3[0]\n",
        "\n",
        "print(people_count)"
      ],
      "metadata": {
        "colab": {
          "base_uri": "https://localhost:8080/"
        },
        "id": "iYt3A9Krv6Gz",
        "outputId": "9612789f-9aa2-45ca-debf-394496e5fc35"
      },
      "execution_count": 30,
      "outputs": [
        {
          "output_type": "stream",
          "name": "stdout",
          "text": [
            "Row(People_Income_over_100k_Loan_Approved=3958)\n"
          ]
        }
      ]
    },
    {
      "cell_type": "markdown",
      "source": [
        "# Question 4\n",
        "\n",
        "Find top 10 people with highest income in United States of America. (Print their names, income and jobs from the highest income to lowest).\n",
        "\n",
        "`query4` takes on the name (incluing Last_Name), Income, and Job from the temporary table Fake_data_temp to get the top 10 people with highest income in the USA. To achieve this we need to use the “where” clause to set the Birth_Country to ‘United States of America’ and order by income in descending order. Limit to 10 because we just want the top 10 people."
      ],
      "metadata": {
        "id": "nnguGJY1Yt_A"
      }
    },
    {
      "cell_type": "code",
      "source": [
        "query_4 = spark.sql('''\n",
        "      SELECT First_Name, Last_Name, Income, Job\n",
        "      FROM Fake_data_temp\n",
        "      WHERE Birth_Country = 'United States of America'\n",
        "      ORDER BY Income DESC\n",
        "      LIMIT 10;\n",
        "''')\n",
        "\n",
        "query4 = query_4 # storing query_4 dataframe into new variable\n",
        "\n",
        "query4.show(truncate=False)"
      ],
      "metadata": {
        "colab": {
          "base_uri": "https://localhost:8080/"
        },
        "id": "VY2EQPX2YtgN",
        "outputId": "8e25a4d7-e8c8-4c25-d3ca-6421cb255dd6"
      },
      "execution_count": null,
      "outputs": [
        {
          "output_type": "stream",
          "name": "stdout",
          "text": [
            "+-----------+---------+------+-------------------------------------------+\n",
            "|First_Name |Last_Name|Income|Job                                        |\n",
            "+-----------+---------+------+-------------------------------------------+\n",
            "|Bobby      |Lopez    |7477  |Dietitian                                  |\n",
            "|John       |Patterson|74237 |Facilities manager                         |\n",
            "|Arthur     |Thompson |74114 |Electronics engineer                       |\n",
            "|Christopher|Gonzales |71967 |Midwife                                    |\n",
            "|Dorothy    |Hart     |68837 |Magazine features editor                   |\n",
            "|Alejandro  |Hernandez|66730 |Warden/ranger                              |\n",
            "|Martha     |Vargas   |62632 |Illustrator                                |\n",
            "|Alyssa     |Miller   |482588|Amenity horticulturist                     |\n",
            "|Tiffany    |Meyer    |47759 |Solicitor, Scotland                        |\n",
            "|Hunter     |Walls    |468946|Psychologist, prison and probation services|\n",
            "+-----------+---------+------+-------------------------------------------+\n",
            "\n"
          ]
        }
      ]
    },
    {
      "cell_type": "markdown",
      "source": [
        "## New Code Transformations and Actions\n",
        "\n",
        "We are still using the temporary table -> Fake_data_temp"
      ],
      "metadata": {
        "id": "K5Q1_BvjBxfe"
      }
    },
    {
      "cell_type": "code",
      "source": [
        "# new query\n",
        "new_query4 = spark.sql('''\n",
        "      SELECT First_Name, Last_Name, Income, Job\n",
        "      FROM Fake_data_temp\n",
        "      WHERE Birth_Country = 'United States of America';\n",
        "''')\n",
        "\n",
        "transf4 = new_query4.orderBy(new_query4.Income.desc()) # transformation\n",
        "\n",
        "results_q4 = transf4.collect() # action\n",
        "\n",
        "top10 = results_q4[:10] # limit 10\n",
        "\n",
        "for person in top10:\n",
        "    print(person)"
      ],
      "metadata": {
        "colab": {
          "base_uri": "https://localhost:8080/"
        },
        "id": "WppxFdsz1oER",
        "outputId": "22968838-4d1a-4ab2-ea02-a2fe993b2a55"
      },
      "execution_count": 33,
      "outputs": [
        {
          "output_type": "stream",
          "name": "stdout",
          "text": [
            "Row(First_Name='Bobby', Last_Name='Lopez', Income='7477', Job='Dietitian')\n",
            "Row(First_Name='John', Last_Name='Patterson', Income='74237', Job='Facilities manager')\n",
            "Row(First_Name='Arthur', Last_Name='Thompson', Income='74114', Job='Electronics engineer')\n",
            "Row(First_Name='Christopher', Last_Name='Gonzales', Income='71967', Job='Midwife')\n",
            "Row(First_Name='Dorothy', Last_Name='Hart', Income='68837', Job='Magazine features editor')\n",
            "Row(First_Name='Alejandro', Last_Name='Hernandez', Income='66730', Job='Warden/ranger')\n",
            "Row(First_Name='Martha', Last_Name='Vargas', Income='62632', Job='Illustrator')\n",
            "Row(First_Name='Alyssa', Last_Name='Miller', Income='482588', Job='Amenity horticulturist')\n",
            "Row(First_Name='Tiffany', Last_Name='Meyer', Income='47759', Job='Solicitor, Scotland')\n",
            "Row(First_Name='Hunter', Last_Name='Walls', Income='468946', Job='Psychologist, prison and probation services')\n"
          ]
        }
      ]
    },
    {
      "cell_type": "markdown",
      "source": [
        "# Question 5\n",
        "\n",
        "\n",
        "How many numbers of distinct jobs are there? Again, `query5` follows the basic SQL Syntax to calculate the number of distinct jobs out there. We select and count the distinct Job and assing an alias to it named \"Distnict_Job\". Then we call the first value of this selected column to get the result.\n"
      ],
      "metadata": {
        "id": "AIZexRzpc4Ph"
      }
    },
    {
      "cell_type": "code",
      "source": [
        "query_5 = spark.sql('''\n",
        "      SELECT COUNT(DISTINCT Job) AS Distinct_Job\n",
        "      FROM Fake_data_temp;\n",
        "''')"
      ],
      "metadata": {
        "id": "Fx5FXrhCc8Z7"
      },
      "execution_count": 60,
      "outputs": []
    },
    {
      "cell_type": "code",
      "source": [
        "query_5.show(truncate=False)"
      ],
      "metadata": {
        "colab": {
          "base_uri": "https://localhost:8080/"
        },
        "id": "jpWNxA8W9n1n",
        "outputId": "5362df75-98e9-448d-e367-781457dcbedc"
      },
      "execution_count": null,
      "outputs": [
        {
          "output_type": "stream",
          "name": "stdout",
          "text": [
            "+------------+\n",
            "|Distinct_Job|\n",
            "+------------+\n",
            "|639         |\n",
            "+------------+\n",
            "\n"
          ]
        }
      ]
    },
    {
      "cell_type": "code",
      "source": [
        "query5 = query_5.first()['Distinct_Job'] # get the first value of the Distinct_Job column from first row of query_5\n",
        "\n",
        "print('How many number of distinct jobs are there?', query5,'jobs.')"
      ],
      "metadata": {
        "colab": {
          "base_uri": "https://localhost:8080/"
        },
        "id": "i5ZSCR279jf_",
        "outputId": "e9378fd5-9a94-4e6e-c1d2-fed6c272e191"
      },
      "execution_count": null,
      "outputs": [
        {
          "output_type": "stream",
          "name": "stdout",
          "text": [
            "How many number of distinct jobs are there? 639 jobs.\n"
          ]
        }
      ]
    },
    {
      "cell_type": "code",
      "source": [
        "query5_sql = query_5.first()[0]\n",
        "\n",
        "print('How many number of distinct jobs are there?', query5_sql,'jobs.')"
      ],
      "metadata": {
        "colab": {
          "base_uri": "https://localhost:8080/"
        },
        "id": "fDNBX0kn9sd8",
        "outputId": "ae2f7cca-4b0b-4428-cb56-40239f93ecca"
      },
      "execution_count": null,
      "outputs": [
        {
          "output_type": "stream",
          "name": "stdout",
          "text": [
            "How many number of distinct jobs are there? 639 jobs.\n"
          ]
        }
      ]
    },
    {
      "cell_type": "markdown",
      "source": [
        "## New Code Transformations and Actions\n",
        "\n",
        "We are still using the temporary table -> Fake_data_temp"
      ],
      "metadata": {
        "id": "8eV1_uwaCHDc"
      }
    },
    {
      "cell_type": "code",
      "source": [
        "# new query\n",
        "new_query5 = spark.sql('''\n",
        "      SELECT Job\n",
        "      FROM Fake_data_temp;\n",
        "''')\n",
        "\n",
        "transf5 = new_query5.distinct() # transformation\n",
        "\n",
        "results_q5 = transf5.count() # action\n",
        "\n",
        "print('How many number of distinct jobs are there?', results_q5, 'jobs.')"
      ],
      "metadata": {
        "colab": {
          "base_uri": "https://localhost:8080/"
        },
        "id": "7ALLG43-6KfX",
        "outputId": "2abbc202-4567-4568-f853-327c59be5d41"
      },
      "execution_count": 31,
      "outputs": [
        {
          "output_type": "stream",
          "name": "stdout",
          "text": [
            "How many number of distinct jobs are there? 639 jobs.\n"
          ]
        }
      ]
    },
    {
      "cell_type": "markdown",
      "source": [
        "# Question 6\n",
        "How many writers earn less than 100,000? `query6` calculates the total count of the rows where Job == 'Writer' and Income is less than $100,000. Again, we use the first() function to obtain the first value fo the selected column -> Writer."
      ],
      "metadata": {
        "id": "HD7HmHfxhvht"
      }
    },
    {
      "cell_type": "code",
      "source": [
        "query_6 = spark.sql('''\n",
        "      SELECT COUNT(*) AS Writers\n",
        "      FROM Fake_data_temp\n",
        "      WHERE Job = 'Writer'\n",
        "      AND Income < 100000;\n",
        "''')"
      ],
      "metadata": {
        "id": "typSB3tIjWS3"
      },
      "execution_count": null,
      "outputs": []
    },
    {
      "cell_type": "code",
      "source": [
        "query_6.show(truncate=False)"
      ],
      "metadata": {
        "colab": {
          "base_uri": "https://localhost:8080/"
        },
        "id": "NOQiNCwXF28r",
        "outputId": "930f7153-5c41-412a-aca1-9db76ac780fd"
      },
      "execution_count": null,
      "outputs": [
        {
          "output_type": "stream",
          "name": "stdout",
          "text": [
            "+-------+\n",
            "|Writers|\n",
            "+-------+\n",
            "|5      |\n",
            "+-------+\n",
            "\n"
          ]
        }
      ]
    },
    {
      "cell_type": "code",
      "source": [
        "query6 = query_6.first()['Writers'] # get the first value (count of writers) of the Writers column from first row of query_6\n",
        "print('How many writers earn less than 100,000?', query6)"
      ],
      "metadata": {
        "colab": {
          "base_uri": "https://localhost:8080/"
        },
        "id": "49BD-kT6FzcN",
        "outputId": "ea887ea9-aaf9-44c0-90d3-0bf06201fb84"
      },
      "execution_count": null,
      "outputs": [
        {
          "output_type": "stream",
          "name": "stdout",
          "text": [
            "How many writers earn less than 100,000? 5\n"
          ]
        }
      ]
    },
    {
      "cell_type": "code",
      "source": [
        "query6_sql = query_6.first()[0]\n",
        "print('How many writers earn less than 100,000?', query6_sql)"
      ],
      "metadata": {
        "colab": {
          "base_uri": "https://localhost:8080/"
        },
        "id": "6GBJsMnBF2io",
        "outputId": "af59a240-bc6e-469f-a115-b34962d0e29f"
      },
      "execution_count": null,
      "outputs": [
        {
          "output_type": "stream",
          "name": "stdout",
          "text": [
            "How many writers earn less than 100,000? 5\n"
          ]
        }
      ]
    },
    {
      "cell_type": "markdown",
      "source": [
        "## New Code Transformations and Actions\n",
        "\n",
        "We are still using the temporary table -> Fake_data_temp"
      ],
      "metadata": {
        "id": "TG3cy2y1C3d5"
      }
    },
    {
      "cell_type": "code",
      "source": [
        "# new query\n",
        "new_query6 = spark.sql('''\n",
        "      SELECT *\n",
        "      FROM Fake_data_temp\n",
        "      WHERE Job = 'Writer';\n",
        "''')\n",
        "\n",
        "transf6 = new_query6.filter(new_query6.Income < 100000) # transformation\n",
        "\n",
        "results_q6 = transf6.count() # action\n",
        "\n",
        "print('How many writers earn less than 100,000?', results_q6, 'writers.')"
      ],
      "metadata": {
        "colab": {
          "base_uri": "https://localhost:8080/"
        },
        "id": "TP1xYb0l7-bS",
        "outputId": "24080811-eade-40c2-dc74-800f84e2d50b"
      },
      "execution_count": 32,
      "outputs": [
        {
          "output_type": "stream",
          "name": "stdout",
          "text": [
            "How many writers earn less than 100,000? 5 writers.\n"
          ]
        }
      ]
    },
    {
      "cell_type": "markdown",
      "source": [
        "# Question 7\n",
        "List the Top 5 countries with the count which have the highest persons with their first name \"Stephen\" or \"Alexandra\" and whose salary is greater then 200000.\n",
        "\n",
        "This code it’s a more elaborated than the others, however it still uses the basics of SQL Syntax to achieve results. `query_7` code calculates the total count of persons in each country who satisfied the filtering results. We assign these results to the column Highest_Person_Count using alias. We also use the WHERE, OR, AND to filter results. Finally, we group by Birth_Country and we order in descending order the Highest_Person_Count. We limit to 5 since we only want the top 5 countries results."
      ],
      "metadata": {
        "id": "VSiv7gMuolQZ"
      }
    },
    {
      "cell_type": "markdown",
      "source": [
        "Observation: Alexandra not Alezander"
      ],
      "metadata": {
        "id": "C21jThoR0sAo"
      }
    },
    {
      "cell_type": "code",
      "source": [
        "query_7 = spark.sql('''\n",
        "      SELECT Birth_Country, COUNT(*) AS Highest_Person_Count\n",
        "      FROM Fake_data_temp\n",
        "      WHERE First_Name = 'Stephen'\n",
        "      OR First_Name = 'Alexandra'\n",
        "      AND Income > 200000\n",
        "      GROUP BY Birth_Country\n",
        "      ORDER BY Highest_Person_Count DESC\n",
        "      LIMIT 5;\n",
        "''')\n",
        "\n",
        "query_7.show()"
      ],
      "metadata": {
        "colab": {
          "base_uri": "https://localhost:8080/"
        },
        "id": "E541eXuJlhP1",
        "outputId": "102788b0-1dc9-4128-cd1b-8793a882ceac"
      },
      "execution_count": 12,
      "outputs": [
        {
          "output_type": "stream",
          "name": "stdout",
          "text": [
            "+--------------------+--------------------+\n",
            "|       Birth_Country|Highest_Person_Count|\n",
            "+--------------------+--------------------+\n",
            "|             Algeria|                   2|\n",
            "|      Cayman Islands|                   2|\n",
            "|       Faroe Islands|                   2|\n",
            "|United States Min...|                   2|\n",
            "|             Tokelau|                   1|\n",
            "+--------------------+--------------------+\n",
            "\n"
          ]
        }
      ]
    },
    {
      "cell_type": "markdown",
      "source": [
        "## New Code Transformations and Actions\n",
        "\n",
        "We are still using the temporary table -> Fake_data_temp"
      ],
      "metadata": {
        "id": "5m3aKPUYDRxQ"
      }
    },
    {
      "cell_type": "code",
      "source": [
        "# This is the fixed original query\n",
        "# Observation: Alexandra not Alezander (this is what I initially had)\n",
        "query7 = spark.sql('''\n",
        "      SELECT Birth_Country, COUNT(*) AS Highest_Person_Count\n",
        "      FROM Fake_data_temp\n",
        "      WHERE (First_Name = 'Stephen'\n",
        "      OR First_Name = 'Alexandra')\n",
        "      AND Income > 200000\n",
        "      GROUP BY Birth_Country\n",
        "      ORDER BY Highest_Person_Count DESC\n",
        "      LIMIT 5;\n",
        "''')\n",
        "\n",
        "query7.show()"
      ],
      "metadata": {
        "colab": {
          "base_uri": "https://localhost:8080/"
        },
        "id": "bsyXHgFBGSeX",
        "outputId": "fb307ade-add8-4823-abfe-96dacfcfba54"
      },
      "execution_count": 35,
      "outputs": [
        {
          "output_type": "stream",
          "name": "stdout",
          "text": [
            "+--------------------+--------------------+\n",
            "|       Birth_Country|Highest_Person_Count|\n",
            "+--------------------+--------------------+\n",
            "|             Algeria|                   2|\n",
            "|       Faroe Islands|                   2|\n",
            "|United States Min...|                   2|\n",
            "|             Tokelau|                   1|\n",
            "|         Philippines|                   1|\n",
            "+--------------------+--------------------+\n",
            "\n"
          ]
        }
      ]
    },
    {
      "cell_type": "code",
      "source": [
        "# new_query\n",
        "# transformation\n",
        "new_query7 = spark.sql('''\n",
        "        SELECT Birth_Country, COUNT(*) AS Person_Count\n",
        "        FROM Fake_data_temp\n",
        "        WHERE (First_Name = 'Stephen' OR First_Name = 'Alexandra')\n",
        "        AND Income > 200000\n",
        "        GROUP BY Birth_Country;\n",
        "''')\n",
        "\n",
        "transf7 = new_query7.orderBy(new_query7.Person_Count.desc())  # Using OrderBy (transformation)\n",
        "\n",
        "results_query7 = transf7.collect() # action\n",
        "\n",
        "top_5 = results_query7[:5] # limit 5\n",
        "\n",
        "for country in top_5:\n",
        "    print(country)"
      ],
      "metadata": {
        "colab": {
          "base_uri": "https://localhost:8080/"
        },
        "id": "RhaAIDvv1UOk",
        "outputId": "89325f8e-f00e-4f9d-e15d-d85c6986680c"
      },
      "execution_count": 26,
      "outputs": [
        {
          "output_type": "stream",
          "name": "stdout",
          "text": [
            "Row(Birth_Country='Algeria', Person_Count=2)\n",
            "Row(Birth_Country='Faroe Islands', Person_Count=2)\n",
            "Row(Birth_Country='United States Minor Outlying Islands', Person_Count=2)\n",
            "Row(Birth_Country='Tokelau', Person_Count=1)\n",
            "Row(Birth_Country='Philippines', Person_Count=1)\n"
          ]
        }
      ]
    },
    {
      "cell_type": "markdown",
      "source": [
        "# Question 8\n",
        "\n",
        "Check if we have people with same SSN number and if they have , print the SSN Number.\n",
        "\n",
        "`query_8` continues with the basic SQL Syntax usage, we select SSN and calculate the total count of persons who contain the same SSN. We group by SSN and use HAVING COUNT( * ) > 1) to filter the results than contain SSN duplicates."
      ],
      "metadata": {
        "id": "ipwI63WOpl68"
      }
    },
    {
      "cell_type": "code",
      "source": [
        "query_8 = spark.sql('''\n",
        "      SELECT SSN, COUNT(*) AS SSN_Check\n",
        "      FROM Fake_data_temp\n",
        "      GROUP BY SSN\n",
        "      HAVING COUNT(*) > 1;\n",
        "''')\n",
        "\n",
        "\n",
        "query_8.show()"
      ],
      "metadata": {
        "colab": {
          "base_uri": "https://localhost:8080/"
        },
        "id": "jZ0ppsEklusx",
        "outputId": "1b38a378-36fa-439d-9646-a1e0fca86b88"
      },
      "execution_count": 28,
      "outputs": [
        {
          "output_type": "stream",
          "name": "stdout",
          "text": [
            "+-----------+---------+\n",
            "|        SSN|SSN_Check|\n",
            "+-----------+---------+\n",
            "|879-74-5521|        2|\n",
            "+-----------+---------+\n",
            "\n"
          ]
        }
      ]
    },
    {
      "cell_type": "markdown",
      "source": [
        "## New Code Transformations and Actions\n",
        "\n",
        "We are still using the temporary table -> Fake_data_temp"
      ],
      "metadata": {
        "id": "yBL-5tsBEIQw"
      }
    },
    {
      "cell_type": "code",
      "source": [
        "transf8 = query_8.orderBy(query_8.SSN_Check.desc())  # transformation\n",
        "\n",
        "results_query8 = transf8.collect() # action\n",
        "\n",
        "for row in results_query8:\n",
        "    print(row)"
      ],
      "metadata": {
        "colab": {
          "base_uri": "https://localhost:8080/"
        },
        "id": "v2P9sZ2oB07x",
        "outputId": "35f92049-3531-4733-8881-2dd75ddbae96"
      },
      "execution_count": 29,
      "outputs": [
        {
          "output_type": "stream",
          "name": "stdout",
          "text": [
            "Row(SSN='879-74-5521', SSN_Check=2)\n"
          ]
        }
      ]
    },
    {
      "cell_type": "markdown",
      "source": [
        "# References:\n",
        " - Checking for temporary table: https://stackoverflow.com/questions/58067388/how-to-check-if-a-hive-table-exists-using-pyspark\n",
        "\n",
        " - SQL Queries in PySpark: https://medium.datadriveninvestor.com/pyspark-sql-and-dataframes-4c821615eafe\n",
        "\n",
        " - PySpark Transformations and Actions Guide: https://www.analyticsvidhya.com/blog/2016/10/using-pyspark-to-perform-transformations-and-actions-on-rdd/\n",
        "\n",
        " - PySpark Transformations: https://sparkbyexamples.com/pyspark/pyspark-rdd-transformations/\n",
        "\n",
        " - SQL AGG and Scalar functions: https://www.geeksforgeeks.org/sql-functions-aggregate-scalar-functions/\n",
        "\n",
        " - SQL Tutorial/Functions: http://www-db.deis.unibo.it/courses/TW/DOCS/w3schools/sql/sql_alias.asp.html#gsc.tab=0\n",
        "\n",
        " - HAVING COUNT (*) > 1: https://stackoverflow.com/questions/30800889/retrieving-the-duplicate-ssn-from-the-huge-number-of-employess-all-of-them\n",
        "\n",
        " - Useful SQL SYNTAX: https://stackoverflow.com/questions/5391564/how-to-use-distinct-and-order-by-in-same-select-statement\n",
        "\n",
        " - PySpark OrderBy(): https://sparkbyexamples.com/pyspark/pyspark-orderby-and-sort-explained/\n",
        "\n",
        " - PySpark groupBy, Sort By, Descending Order: https://sparkbyexamples.com/pyspark/pyspark-dataframe-groupby-and-sort-by-descending-order/\n",
        "\n",
        " - **This is how the answers should be:** PySpark desc() and collect(): https://spark.apache.org/docs/3.1.3/api/python/reference/api/pyspark.sql.Column.desc.html\n",
        "\n",
        " - withColumnRenamed: https://spark.apache.org/docs/latest/api/python/reference/pyspark.sql/api/pyspark.sql.DataFrame.withColumnRenamed.html\n",
        "\n",
        " - PySpark distinct: https://sparkbyexamples.com/pyspark/pyspark-select-distinct/\n",
        "\n",
        " - PySpark count(): https://sparkbyexamples.com/pyspark/pyspark-count/"
      ],
      "metadata": {
        "id": "3pWHDtNrpjxw"
      }
    }
  ]
}