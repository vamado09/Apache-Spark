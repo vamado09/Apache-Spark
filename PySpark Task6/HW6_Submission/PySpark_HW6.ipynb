{
 "cells": [
  {
   "cell_type": "code",
   "execution_count": 1,
   "id": "acb35ea6",
   "metadata": {},
   "outputs": [],
   "source": [
    "#!pip install happybase"
   ]
  },
  {
   "cell_type": "code",
   "execution_count": 2,
   "id": "7e74802a",
   "metadata": {},
   "outputs": [],
   "source": [
    "import numpy as np\n",
    "import pandas as pd\n",
    "import happybase as hb\n",
    "import warnings\n",
    "warnings.filterwarnings('ignore')"
   ]
  },
  {
   "cell_type": "code",
   "execution_count": 3,
   "id": "6a508cdf",
   "metadata": {},
   "outputs": [],
   "source": [
    "#!pip install pyspark py4j"
   ]
  },
  {
   "cell_type": "code",
   "execution_count": 4,
   "id": "96f0750d",
   "metadata": {},
   "outputs": [],
   "source": [
    "from pyspark.sql import SparkSession"
   ]
  },
  {
   "cell_type": "code",
   "execution_count": 5,
   "id": "9ebdba6b",
   "metadata": {},
   "outputs": [
    {
     "name": "stderr",
     "output_type": "stream",
     "text": [
      "23/06/27 16:14:16 WARN Utils: Your hostname, Vicentes-MacBook-Air.local resolves to a loopback address: 127.0.0.1; using 10.0.0.110 instead (on interface en0)\n",
      "23/06/27 16:14:16 WARN Utils: Set SPARK_LOCAL_IP if you need to bind to another address\n",
      "Setting default log level to \"WARN\".\n",
      "To adjust logging level use sc.setLogLevel(newLevel). For SparkR, use setLogLevel(newLevel).\n",
      "23/06/27 16:14:17 WARN NativeCodeLoader: Unable to load native-hadoop library for your platform... using builtin-java classes where applicable\n"
     ]
    }
   ],
   "source": [
    "spark = SparkSession.builder.appName('HBaseDataFrame').getOrCreate()"
   ]
  },
  {
   "cell_type": "markdown",
   "id": "6989f858",
   "metadata": {},
   "source": [
    "# Reading CSV File"
   ]
  },
  {
   "cell_type": "code",
   "execution_count": 6,
   "id": "91f70f52",
   "metadata": {},
   "outputs": [
    {
     "data": {
      "text/html": [
       "<div>\n",
       "<style scoped>\n",
       "    .dataframe tbody tr th:only-of-type {\n",
       "        vertical-align: middle;\n",
       "    }\n",
       "\n",
       "    .dataframe tbody tr th {\n",
       "        vertical-align: top;\n",
       "    }\n",
       "\n",
       "    .dataframe thead th {\n",
       "        text-align: right;\n",
       "    }\n",
       "</style>\n",
       "<table border=\"1\" class=\"dataframe\">\n",
       "  <thead>\n",
       "    <tr style=\"text-align: right;\">\n",
       "      <th></th>\n",
       "      <th>Unnamed: 0</th>\n",
       "      <th>Birth_Country</th>\n",
       "      <th>Email</th>\n",
       "      <th>First_Name</th>\n",
       "      <th>Income</th>\n",
       "      <th>Job</th>\n",
       "      <th>Last_name</th>\n",
       "      <th>Loan_Approved</th>\n",
       "      <th>SSN</th>\n",
       "    </tr>\n",
       "  </thead>\n",
       "  <tbody>\n",
       "    <tr>\n",
       "      <th>0</th>\n",
       "      <td>0</td>\n",
       "      <td>Bosnia and Herzegovina</td>\n",
       "      <td>emily15@whitehead.com</td>\n",
       "      <td>Melissa</td>\n",
       "      <td>109957</td>\n",
       "      <td>Telecommunications researcher</td>\n",
       "      <td>Miranda</td>\n",
       "      <td>False</td>\n",
       "      <td>129-41-7773</td>\n",
       "    </tr>\n",
       "    <tr>\n",
       "      <th>1</th>\n",
       "      <td>1</td>\n",
       "      <td>Belgium</td>\n",
       "      <td>ronald87@yahoo.com</td>\n",
       "      <td>Curtis</td>\n",
       "      <td>301884</td>\n",
       "      <td>Animal nutritionist</td>\n",
       "      <td>Garrett</td>\n",
       "      <td>True</td>\n",
       "      <td>212-74-3976</td>\n",
       "    </tr>\n",
       "    <tr>\n",
       "      <th>2</th>\n",
       "      <td>2</td>\n",
       "      <td>United Kingdom</td>\n",
       "      <td>hannah29@gmail.com</td>\n",
       "      <td>Connor</td>\n",
       "      <td>341584</td>\n",
       "      <td>English as a foreign language teacher</td>\n",
       "      <td>Steele</td>\n",
       "      <td>False</td>\n",
       "      <td>024-35-3834</td>\n",
       "    </tr>\n",
       "    <tr>\n",
       "      <th>3</th>\n",
       "      <td>3</td>\n",
       "      <td>Kiribati</td>\n",
       "      <td>derrick59@hotmail.com</td>\n",
       "      <td>Adam</td>\n",
       "      <td>448293</td>\n",
       "      <td>Surveyor, commercial/residential</td>\n",
       "      <td>Newman</td>\n",
       "      <td>False</td>\n",
       "      <td>157-82-4486</td>\n",
       "    </tr>\n",
       "    <tr>\n",
       "      <th>4</th>\n",
       "      <td>4</td>\n",
       "      <td>Malaysia</td>\n",
       "      <td>wendycarpenter@walker-knox.com</td>\n",
       "      <td>Jared</td>\n",
       "      <td>53621</td>\n",
       "      <td>Drilling engineer</td>\n",
       "      <td>Mann</td>\n",
       "      <td>True</td>\n",
       "      <td>199-56-2824</td>\n",
       "    </tr>\n",
       "  </tbody>\n",
       "</table>\n",
       "</div>"
      ],
      "text/plain": [
       "   Unnamed: 0           Birth_Country                           Email  \\\n",
       "0           0  Bosnia and Herzegovina           emily15@whitehead.com   \n",
       "1           1                 Belgium              ronald87@yahoo.com   \n",
       "2           2          United Kingdom              hannah29@gmail.com   \n",
       "3           3                Kiribati           derrick59@hotmail.com   \n",
       "4           4                Malaysia  wendycarpenter@walker-knox.com   \n",
       "\n",
       "  First_Name  Income                                    Job Last_name  \\\n",
       "0    Melissa  109957          Telecommunications researcher   Miranda   \n",
       "1     Curtis  301884                    Animal nutritionist   Garrett   \n",
       "2     Connor  341584  English as a foreign language teacher    Steele   \n",
       "3       Adam  448293       Surveyor, commercial/residential    Newman   \n",
       "4      Jared   53621                      Drilling engineer      Mann   \n",
       "\n",
       "   Loan_Approved          SSN  \n",
       "0          False  129-41-7773  \n",
       "1           True  212-74-3976  \n",
       "2          False  024-35-3834  \n",
       "3          False  157-82-4486  \n",
       "4           True  199-56-2824  "
      ]
     },
     "execution_count": 6,
     "metadata": {},
     "output_type": "execute_result"
    }
   ],
   "source": [
    "df = pd.read_csv('Fake_data.csv')\n",
    "df.head()"
   ]
  },
  {
   "cell_type": "markdown",
   "id": "fc9fae1e",
   "metadata": {},
   "source": [
    "I personally consider that having the “Unamed” column is not necessary in this case, hence I decided to drop it from the DataFrame."
   ]
  },
  {
   "cell_type": "code",
   "execution_count": 7,
   "id": "7e1a2c3d",
   "metadata": {},
   "outputs": [
    {
     "data": {
      "text/html": [
       "<div>\n",
       "<style scoped>\n",
       "    .dataframe tbody tr th:only-of-type {\n",
       "        vertical-align: middle;\n",
       "    }\n",
       "\n",
       "    .dataframe tbody tr th {\n",
       "        vertical-align: top;\n",
       "    }\n",
       "\n",
       "    .dataframe thead th {\n",
       "        text-align: right;\n",
       "    }\n",
       "</style>\n",
       "<table border=\"1\" class=\"dataframe\">\n",
       "  <thead>\n",
       "    <tr style=\"text-align: right;\">\n",
       "      <th></th>\n",
       "      <th>Birth_Country</th>\n",
       "      <th>Email</th>\n",
       "      <th>First_Name</th>\n",
       "      <th>Income</th>\n",
       "      <th>Job</th>\n",
       "      <th>Last_name</th>\n",
       "      <th>Loan_Approved</th>\n",
       "      <th>SSN</th>\n",
       "    </tr>\n",
       "  </thead>\n",
       "  <tbody>\n",
       "    <tr>\n",
       "      <th>0</th>\n",
       "      <td>Bosnia and Herzegovina</td>\n",
       "      <td>emily15@whitehead.com</td>\n",
       "      <td>Melissa</td>\n",
       "      <td>109957</td>\n",
       "      <td>Telecommunications researcher</td>\n",
       "      <td>Miranda</td>\n",
       "      <td>False</td>\n",
       "      <td>129-41-7773</td>\n",
       "    </tr>\n",
       "    <tr>\n",
       "      <th>1</th>\n",
       "      <td>Belgium</td>\n",
       "      <td>ronald87@yahoo.com</td>\n",
       "      <td>Curtis</td>\n",
       "      <td>301884</td>\n",
       "      <td>Animal nutritionist</td>\n",
       "      <td>Garrett</td>\n",
       "      <td>True</td>\n",
       "      <td>212-74-3976</td>\n",
       "    </tr>\n",
       "    <tr>\n",
       "      <th>2</th>\n",
       "      <td>United Kingdom</td>\n",
       "      <td>hannah29@gmail.com</td>\n",
       "      <td>Connor</td>\n",
       "      <td>341584</td>\n",
       "      <td>English as a foreign language teacher</td>\n",
       "      <td>Steele</td>\n",
       "      <td>False</td>\n",
       "      <td>024-35-3834</td>\n",
       "    </tr>\n",
       "    <tr>\n",
       "      <th>3</th>\n",
       "      <td>Kiribati</td>\n",
       "      <td>derrick59@hotmail.com</td>\n",
       "      <td>Adam</td>\n",
       "      <td>448293</td>\n",
       "      <td>Surveyor, commercial/residential</td>\n",
       "      <td>Newman</td>\n",
       "      <td>False</td>\n",
       "      <td>157-82-4486</td>\n",
       "    </tr>\n",
       "    <tr>\n",
       "      <th>4</th>\n",
       "      <td>Malaysia</td>\n",
       "      <td>wendycarpenter@walker-knox.com</td>\n",
       "      <td>Jared</td>\n",
       "      <td>53621</td>\n",
       "      <td>Drilling engineer</td>\n",
       "      <td>Mann</td>\n",
       "      <td>True</td>\n",
       "      <td>199-56-2824</td>\n",
       "    </tr>\n",
       "  </tbody>\n",
       "</table>\n",
       "</div>"
      ],
      "text/plain": [
       "            Birth_Country                           Email First_Name  Income  \\\n",
       "0  Bosnia and Herzegovina           emily15@whitehead.com    Melissa  109957   \n",
       "1                 Belgium              ronald87@yahoo.com     Curtis  301884   \n",
       "2          United Kingdom              hannah29@gmail.com     Connor  341584   \n",
       "3                Kiribati           derrick59@hotmail.com       Adam  448293   \n",
       "4                Malaysia  wendycarpenter@walker-knox.com      Jared   53621   \n",
       "\n",
       "                                     Job Last_name  Loan_Approved          SSN  \n",
       "0          Telecommunications researcher   Miranda          False  129-41-7773  \n",
       "1                    Animal nutritionist   Garrett           True  212-74-3976  \n",
       "2  English as a foreign language teacher    Steele          False  024-35-3834  \n",
       "3       Surveyor, commercial/residential    Newman          False  157-82-4486  \n",
       "4                      Drilling engineer      Mann           True  199-56-2824  "
      ]
     },
     "execution_count": 7,
     "metadata": {},
     "output_type": "execute_result"
    }
   ],
   "source": [
    "df = df.iloc[:, 1:]\n",
    "df.head()"
   ]
  },
  {
   "cell_type": "markdown",
   "id": "1533a6cf",
   "metadata": {},
   "source": [
    "# HBase Mac Installation\n",
    "\n",
    "Important steps:\n",
    "\n",
    "- Mac has JAVA 1.17 as the default Java version. Because he HBase nature, I needed to change it to version 1.8 for it to work. This is done by downloading the java version in java website and then doing the following within the mac terminal:"
   ]
  },
  {
   "attachments": {
    "Screenshot%202023-06-27%20at%205.19.09%20PM.png": {
     "image/png": "[encoded data removed]"
    }
   },
   "cell_type": "markdown",
   "id": "df6dd69b",
   "metadata": {},
   "source": [
    "![Screenshot%202023-06-27%20at%205.19.09%20PM.png](attachment:Screenshot%202023-06-27%20at%205.19.09%20PM.png)"
   ]
  },
  {
   "attachments": {
    "Screenshot%202023-06-27%20at%201.56.24%20PM.png": {
     "image/png": "[encoded data removed]"
    }
   },
   "cell_type": "markdown",
   "id": "b1ae98b9",
   "metadata": {},
   "source": [
    "- Download Apache HBase 2.4.17 bin not src. (You do this by going to Apache HBase website)\n",
    "\n",
    "- I store the HBase 2.4.17 file on my Desktop and proceeded to create two new files: hbase-data (hbase table storage) and zookepeer-data. Go to the \"hbase-2.4.17\" file and open the hbase-site.xml in order to change configurations to where I want to store my Hbase tables.\n",
    "\n",
    "![Screenshot%202023-06-27%20at%201.56.24%20PM.png](attachment:Screenshot%202023-06-27%20at%201.56.24%20PM.png)"
   ]
  },
  {
   "attachments": {
    "Screenshot%202023-06-27%20at%205.20.10%20PM.png": {
     "image/png": "[encoded data removed]"
    }
   },
   "cell_type": "markdown",
   "id": "53dea9a2",
   "metadata": {},
   "source": [
    "![Screenshot%202023-06-27%20at%205.20.10%20PM.png](attachment:Screenshot%202023-06-27%20at%205.20.10%20PM.png)"
   ]
  },
  {
   "cell_type": "markdown",
   "id": "01f8666d",
   "metadata": {},
   "source": [
    "- Save (cntrl + o), press enter, exit nano editor (cntrl + x), and refresh the mac terminal (source ~/.zshrc)\n",
    "\n",
    "- Running thrift server for connection:"
   ]
  },
  {
   "attachments": {
    "Screenshot%202023-06-27%20at%205.21.23%20PM.png": {
     "image/png": "[encoded data removed]"
    }
   },
   "cell_type": "markdown",
   "id": "09926c3e",
   "metadata": {},
   "source": [
    "![Screenshot%202023-06-27%20at%205.21.23%20PM.png](attachment:Screenshot%202023-06-27%20at%205.21.23%20PM.png)"
   ]
  },
  {
   "cell_type": "markdown",
   "id": "799ada98",
   "metadata": {},
   "source": [
    "Resources:\n",
    "\n",
    "- Java 1.8: https://www.youtube.com/watch?v=USKdqHp3Glg\n",
    "\n",
    "- Java 1.8: https://stackoverflow.com/questions/22842743/how-to-set-java-home-environment-variable-on-mac-os-x-10-9\n",
    "\n",
    "- Java 1.8: https://medium.com/notes-for-geeks/java-home-and-java-home-on-macos-f246cab643bd\n",
    "\n",
    "- Apache Hbase: https://www.apache.org/dyn/closer.lua/hbase/2.4.17/hbase-2.4.17-bin.tar.gz\n",
    "\n",
    "- HBase Installation: https://www.youtube.com/watch?v=KHrZpv0sjcw&t=515s\n",
    "\n",
    "- HBase Installation/ Running: https://www.youtube.com/watch?v=dPJRQnHIpPA&t=193s\n",
    "\n",
    "- HBase Installation: https://www.engati.com/blog/install-hbase-on-mac-in-5-minutes\n",
    "\n",
    "- HBase Installation: https://ashwani-singh-nitk.medium.com/hbase-installation-on-mac-505b90dd1635\n",
    "\n",
    "- HBase thrift: https://stackoverflow.com/questions/21878923/unable-to-start-hbase-thrift-server\n",
    "\n",
    "- HBase thrift port (optional): https://docs.cloudera.com/HDPDocuments/HDP3/HDP-3.1.0/administration/content/hbase-ports.html\n",
    "\n",
    "- HBase local instance and Python connection: https://towardsdatascience.com/setting-up-a-standalone-hbase-local-instance-and-connect-to-it-with-python-happybase-9751c9fe6941\n"
   ]
  },
  {
   "cell_type": "markdown",
   "id": "32b1997c",
   "metadata": {},
   "source": [
    "# Storing the CSV File into HBase Table\n",
    "\n",
    "It is important to state that I decided to switch to Jupyter Notebook because Google Colab wasn't compatible with HBase. Since it is a cloud-based platform, it doesn't have native support for HBase connection. Jupyter Notebook does supports this connection. Resource used in the storing process came from: \n",
    "\n",
    "- Happybase doc: https://happybase.readthedocs.io/en/latest/user.html\n",
    "\n",
    "- Happybase doc: https://happybase.readthedocs.io/en/latest/\n",
    "\n",
    "- Happybase doc: https://happybase.readthedocs.io/en/latest/api.html\n",
    "\n",
    "- Bytes: https://docs.python.org/3/library/stdtypes.html#str.encode\n",
    "\n",
    "- Connection: https://stackoverflow.com/questions/55292063/cannot-create-simple-table-using-happybase-in-python\n",
    "\n",
    "- Designing Hbase tables: https://www.ibm.com/docs/en/db2-big-sql/5.0.4?topic=performance-hints-designing-hbase-tables\n",
    "\n",
    "- Column families: https://stackoverflow.com/questions/64944559/why-do-we-need-column-families-in-hbase\n",
    "\n",
    "- Column families: https://www.cockroachlabs.com/docs/stable/column-families.html\n",
    "\n",
    "- Row iteration: https://sparkbyexamples.com/pandas/iterate-over-rows-in-pandas-dataframe/?expand_article=1\n",
    "\n",
    "- Convert byteString key-value pair of dictionary to String: https://www.geeksforgeeks.org/python-convert-bytestring-keyvalue-pair-of-dictionary-to-string/"
   ]
  },
  {
   "cell_type": "markdown",
   "id": "1c145a81",
   "metadata": {},
   "source": [
    "### Setting up the HBase connection"
   ]
  },
  {
   "cell_type": "code",
   "execution_count": 8,
   "id": "af28702d",
   "metadata": {},
   "outputs": [],
   "source": [
    "hostname = 'Vicentes-MacBook-Air.local' # my HBase host name\n",
    "port = 9090 # default HBase port\n",
    "\n",
    "connection = hb.Connection(hostname, port = port) # using happybase as hb"
   ]
  },
  {
   "cell_type": "markdown",
   "id": "90e23cbf",
   "metadata": {},
   "source": [
    "### Creating the Table\n",
    "\n",
    "Tables (class Table) provide the main API to retrieve and manipulate data in HBase. Encode() will be used to convert strings to bytes. HBase does not have any notion of data types; all row keys, column names and column values are simply treated as raw byte strings (HBase uses bytes). Also, HBase tables are made of column families which are the logical and physical grouping of columns. The columns in one family are stored separately from the columns in another family. A column family is a group of columns in a table that are stored as a single key-value pair in the underlying key-value store. Column families reduce the number of keys stored in the key-value store, resulting in improved performance during operations.\n",
    "\n",
    "We are going to iterate all rows using the df.iterrows() and apply str.encode() to get the strings encoded to bytes. Manually putting all the csv columns in the HBase table using the previous methods mentioned."
   ]
  },
  {
   "cell_type": "code",
   "execution_count": 9,
   "id": "cefabadb",
   "metadata": {},
   "outputs": [],
   "source": [
    "my_table = 'HBase_Table'\n",
    "\n",
    "# worker (assign to empty dictionary) is the column family name for data iteration\n",
    "column_families = {'worker': {}} # column family based on csv\n",
    "\n",
    "connection.create_table(my_table, column_families) # creating the table\n",
    "\n",
    "table = connection.table(my_table)"
   ]
  },
  {
   "cell_type": "code",
   "execution_count": 10,
   "id": "f086097e",
   "metadata": {},
   "outputs": [],
   "source": [
    "for index, row in df.iterrows(): # iterate all rows using df.iterrows()\n",
    "    data = { # data dictionary\n",
    "        b'worker:Birth_Country': str(row['Birth_Country']).encode(),\n",
    "        b'worker:Email': str(row['Email']).encode(),\n",
    "        b'worker:First_Name': str(row['First_Name']).encode(),\n",
    "        b'worker:Income': str(row['Income']).encode(),\n",
    "        b'worker:Job': str(row['Job']).encode(),\n",
    "        b'worker:Last_name': str(row['Last_name']).encode(),\n",
    "        b'worker:Loan_Approved': str(row['Loan_Approved']).encode(),\n",
    "        b'worker:SSN': str(row['SSN']).encode()\n",
    "    }\n",
    "\n",
    "    table.put(str(index).encode(), data) # data into HBase\n",
    "    \n",
    "connection.close() # closing conneciton"
   ]
  },
  {
   "cell_type": "markdown",
   "id": "ab405e91",
   "metadata": {},
   "source": [
    "# Spark SQL Reading HBase Table\n",
    "\n",
    "Lets open a connection again and since PySpark \"createDataFrame\" seems to be expecting strings, I decided to convert data dictionary byteString key-value pairs to strings using 'utf-8' in order to print the DataFrame. After performing this operation, we implement the same sql operations from HomeWork 4 using the family column 'worker'."
   ]
  },
  {
   "cell_type": "code",
   "execution_count": 12,
   "id": "1a3cd9de",
   "metadata": {},
   "outputs": [],
   "source": [
    "hostname = 'Vicentes-MacBook-Air.local' # my HBase host name\n",
    "port = 9090 # default HBase port\n",
    "\n",
    "connection = hb.Connection(hostname, port = port) # using happybase as hb\n",
    "table = connection.table('HBase_Table')"
   ]
  },
  {
   "cell_type": "code",
   "execution_count": 13,
   "id": "c909df68",
   "metadata": {},
   "outputs": [],
   "source": [
    "# converting data's byteString key-value pairs to strings using 'utf-8'\n",
    "# I decided to do this after getting this error: \n",
    "# df = spark.createDataFrame(data), AssertionError: field name b'worker:Birth_Country' should be a string\n",
    "# scanning over rows in the table\n",
    "\n",
    "data = [{k.decode('utf-8'): v.decode('utf-8') for k, v in dict.items()} for key, dict in table.scan()]"
   ]
  },
  {
   "cell_type": "code",
   "execution_count": 14,
   "id": "15d0fd07",
   "metadata": {},
   "outputs": [
    {
     "name": "stderr",
     "output_type": "stream",
     "text": [
      "[Stage 0:>                                                          (0 + 1) / 1]\r"
     ]
    },
    {
     "name": "stdout",
     "output_type": "stream",
     "text": [
      "+----------------------+--------------------------+-----------------+-------------+-----------------------------+----------------+--------------------+-----------+\n",
      "|worker:Birth_Country  |worker:Email              |worker:First_Name|worker:Income|worker:Job                   |worker:Last_name|worker:Loan_Approved|worker:SSN |\n",
      "+----------------------+--------------------------+-----------------+-------------+-----------------------------+----------------+--------------------+-----------+\n",
      "|Bosnia and Herzegovina|emily15@whitehead.com     |Melissa          |109957       |Telecommunications researcher|Miranda         |False               |129-41-7773|\n",
      "|Belgium               |ronald87@yahoo.com        |Curtis           |301884       |Animal nutritionist          |Garrett         |True                |212-74-3976|\n",
      "|Armenia               |jennifer24@lynch-burch.com|Alexandra        |75778        |Water engineer               |Simon           |False               |217-96-3391|\n",
      "|Slovenia              |gloverbarbara@rollins.com |Jason            |437490       |Proofreader                  |Parker          |False               |757-92-6792|\n",
      "|Niger                 |dsmith@gmail.com          |Caroline         |389510       |Product designer             |Solomon         |True                |535-99-5336|\n",
      "+----------------------+--------------------------+-----------------+-------------+-----------------------------+----------------+--------------------+-----------+\n",
      "only showing top 5 rows\n",
      "\n"
     ]
    },
    {
     "name": "stderr",
     "output_type": "stream",
     "text": [
      "                                                                                \r"
     ]
    }
   ],
   "source": [
    "sparkhb_df = spark.createDataFrame(data)\n",
    "sparkhb_df.show(n=5, truncate=False)"
   ]
  },
  {
   "cell_type": "code",
   "execution_count": 15,
   "id": "ce0b23da",
   "metadata": {},
   "outputs": [
    {
     "name": "stdout",
     "output_type": "stream",
     "text": [
      "root\n",
      " |-- worker:Birth_Country: string (nullable = true)\n",
      " |-- worker:Email: string (nullable = true)\n",
      " |-- worker:First_Name: string (nullable = true)\n",
      " |-- worker:Income: string (nullable = true)\n",
      " |-- worker:Job: string (nullable = true)\n",
      " |-- worker:Last_name: string (nullable = true)\n",
      " |-- worker:Loan_Approved: string (nullable = true)\n",
      " |-- worker:SSN: string (nullable = true)\n",
      "\n"
     ]
    }
   ],
   "source": [
    "sparkhb_df.printSchema() # You can see worker family column"
   ]
  },
  {
   "cell_type": "code",
   "execution_count": 16,
   "id": "8297c5d1",
   "metadata": {},
   "outputs": [],
   "source": [
    "df_temp = sparkhb_df.createOrReplaceTempView('Temporary_HBase_Table') # creating temporary table"
   ]
  },
  {
   "cell_type": "code",
   "execution_count": 17,
   "id": "71625dd5",
   "metadata": {},
   "outputs": [
    {
     "name": "stdout",
     "output_type": "stream",
     "text": [
      "Temporary_HBase_Table exists\n"
     ]
    }
   ],
   "source": [
    "# Checking if temporary table exists or not\n",
    "\n",
    "table_exists = spark.catalog.tableExists('Temporary_HBase_Table')\n",
    "\n",
    "if table_exists:\n",
    "    print('Temporary_HBase_Table exists')\n",
    "else:\n",
    "    print('Temporary_HBase_Table does not exist')"
   ]
  },
  {
   "cell_type": "markdown",
   "id": "8404b77f",
   "metadata": {},
   "source": [
    "# Question 1"
   ]
  },
  {
   "cell_type": "code",
   "execution_count": 47,
   "id": "3d0dc393",
   "metadata": {},
   "outputs": [
    {
     "name": "stderr",
     "output_type": "stream",
     "text": [
      "[Stage 77:>                                                         (0 + 8) / 8]\r"
     ]
    },
    {
     "name": "stdout",
     "output_type": "stream",
     "text": [
      "+--------------------+-------------+\n",
      "|worker:Birth_Country|Total_Country|\n",
      "+--------------------+-------------+\n",
      "|Korea               |91           |\n",
      "+--------------------+-------------+\n",
      "\n"
     ]
    },
    {
     "name": "stderr",
     "output_type": "stream",
     "text": [
      "                                                                                \r"
     ]
    }
   ],
   "source": [
    "query_1 = spark.sql('''\n",
    "    SELECT `worker:Birth_Country`, COUNT(*) AS Total_Country\n",
    "    FROM Temporary_HBase_Table\n",
    "    GROUP BY `worker:Birth_Country`\n",
    "    ORDER By Total_Country DESC\n",
    "    LIMIT 1;\n",
    "''')\n",
    "\n",
    "query_1.show(truncate = False)"
   ]
  },
  {
   "cell_type": "code",
   "execution_count": 48,
   "id": "3da9de4e",
   "metadata": {},
   "outputs": [
    {
     "name": "stdout",
     "output_type": "stream",
     "text": [
      "Birth country which has highest amount of people is: Korea\n"
     ]
    }
   ],
   "source": [
    "query1_sql = query_1.first()[0]\n",
    "print('Birth country which has highest amount of people is:', query1_sql)"
   ]
  },
  {
   "cell_type": "markdown",
   "id": "e9b7b023",
   "metadata": {},
   "source": [
    "# Question 2"
   ]
  },
  {
   "cell_type": "code",
   "execution_count": 36,
   "id": "561225b7",
   "metadata": {},
   "outputs": [
    {
     "name": "stdout",
     "output_type": "stream",
     "text": [
      "+------------------------+------------------+\n",
      "|worker:Birth_Country    |Average_Income    |\n",
      "+------------------------+------------------+\n",
      "|United States of America|208759.82352941178|\n",
      "+------------------------+------------------+\n",
      "\n"
     ]
    }
   ],
   "source": [
    "query_2 = spark.sql('''\n",
    "    SELECT `worker:Birth_Country`, AVG(`worker:Income`) AS Average_Income\n",
    "    FROM Temporary_HBase_Table\n",
    "    WHERE `worker:Birth_Country` = 'United States of America'\n",
    "    GROUP BY `worker:Birth_Country`;\n",
    "''')\n",
    "\n",
    "query_2.show(truncate = False)"
   ]
  },
  {
   "cell_type": "code",
   "execution_count": 32,
   "id": "ae78cbf2",
   "metadata": {},
   "outputs": [
    {
     "name": "stdout",
     "output_type": "stream",
     "text": [
      "The average income of people who are born in united states of america is: 208759.82352941178\n"
     ]
    }
   ],
   "source": [
    "query2_sql = query_2.first()[1] # change from 0 to 1 because I want the avg income\n",
    "print('The average income of people who are born in united states of america is:', query2_sql)"
   ]
  },
  {
   "cell_type": "markdown",
   "id": "4d22599f",
   "metadata": {},
   "source": [
    "# Question 3"
   ]
  },
  {
   "cell_type": "code",
   "execution_count": 40,
   "id": "ff32dd2b",
   "metadata": {},
   "outputs": [
    {
     "name": "stdout",
     "output_type": "stream",
     "text": [
      "+-------------------------------------+\n",
      "|Count_People_Income_Over_100K_No_Loan|\n",
      "+-------------------------------------+\n",
      "|4009                                 |\n",
      "+-------------------------------------+\n",
      "\n"
     ]
    }
   ],
   "source": [
    "query_3 = spark.sql('''\n",
    "    SELECT COUNT(*) AS Count_People_Income_Over_100K_No_Loan\n",
    "    FROM Temporary_HBase_Table\n",
    "    WHERE `worker:Income` > 100000 AND `worker:Loan_Approved` = 'False';\n",
    "''')\n",
    "\n",
    "query_3.show(truncate = False)"
   ]
  },
  {
   "cell_type": "code",
   "execution_count": 44,
   "id": "a128c08b",
   "metadata": {},
   "outputs": [
    {
     "name": "stdout",
     "output_type": "stream",
     "text": [
      "How many people has income over 100K but their loan is not approved? The amount of 4009 people.\n"
     ]
    }
   ],
   "source": [
    "query3_sql = query_3.first()[0]\n",
    "print('How many people has income over 100K but their loan is not approved? The amount of', query3_sql, 'people.')"
   ]
  },
  {
   "cell_type": "markdown",
   "id": "bc59546d",
   "metadata": {},
   "source": [
    "# Question 4"
   ]
  },
  {
   "cell_type": "code",
   "execution_count": 35,
   "id": "8255d048",
   "metadata": {},
   "outputs": [
    {
     "name": "stdout",
     "output_type": "stream",
     "text": [
      "+-----------------+----------------+-------------+-------------------------------------------+\n",
      "|worker:First_Name|worker:Last_Name|worker:Income|worker:Job                                 |\n",
      "+-----------------+----------------+-------------+-------------------------------------------+\n",
      "|Bobby            |Lopez           |7477         |Dietitian                                  |\n",
      "|John             |Patterson       |74237        |Facilities manager                         |\n",
      "|Arthur           |Thompson        |74114        |Electronics engineer                       |\n",
      "|Christopher      |Gonzales        |71967        |Midwife                                    |\n",
      "|Dorothy          |Hart            |68837        |Magazine features editor                   |\n",
      "|Alejandro        |Hernandez       |66730        |Warden/ranger                              |\n",
      "|Martha           |Vargas          |62632        |Illustrator                                |\n",
      "|Alyssa           |Miller          |482588       |Amenity horticulturist                     |\n",
      "|Tiffany          |Meyer           |47759        |Solicitor, Scotland                        |\n",
      "|Hunter           |Walls           |468946       |Psychologist, prison and probation services|\n",
      "+-----------------+----------------+-------------+-------------------------------------------+\n",
      "\n"
     ]
    }
   ],
   "source": [
    "query_4 = spark.sql('''\n",
    "    SELECT `worker:First_Name`, `worker:Last_Name`, `worker:Income`, `worker:Job`\n",
    "    FROM Temporary_HBase_Table\n",
    "    WHERE `worker:Birth_Country` = 'United States of America'\n",
    "    ORDER BY `worker:Income` DESC\n",
    "    LIMIT 10;\n",
    "''')\n",
    "\n",
    "query_4.show(truncate = False)"
   ]
  },
  {
   "cell_type": "markdown",
   "id": "5605f4cc",
   "metadata": {},
   "source": [
    "# Question 5"
   ]
  },
  {
   "cell_type": "code",
   "execution_count": 37,
   "id": "6beee798",
   "metadata": {},
   "outputs": [
    {
     "name": "stdout",
     "output_type": "stream",
     "text": [
      "+-------------------+\n",
      "|Count_Distinct_Jobs|\n",
      "+-------------------+\n",
      "|639                |\n",
      "+-------------------+\n",
      "\n"
     ]
    }
   ],
   "source": [
    "query_5 = spark.sql('''\n",
    "    SELECT COUNT(DISTINCT `worker:Job`) AS Count_Distinct_Jobs\n",
    "    FROM Temporary_HBase_Table;\n",
    "''')\n",
    "\n",
    "query_5.show(truncate = False)"
   ]
  },
  {
   "cell_type": "code",
   "execution_count": 39,
   "id": "07766bea",
   "metadata": {},
   "outputs": [
    {
     "name": "stdout",
     "output_type": "stream",
     "text": [
      "How many number of distinct jobs are there?: 639 jobs.\n"
     ]
    }
   ],
   "source": [
    "query5_sql = query_5.first()[0]\n",
    "print('How many number of distinct jobs are there?:', query5_sql, 'jobs.')"
   ]
  },
  {
   "cell_type": "markdown",
   "id": "682036cd",
   "metadata": {},
   "source": [
    "# Question 6"
   ]
  },
  {
   "cell_type": "code",
   "execution_count": 43,
   "id": "031c7516",
   "metadata": {},
   "outputs": [
    {
     "name": "stdout",
     "output_type": "stream",
     "text": [
      "+----------------------------------+\n",
      "|Count_Writers_Icome_Less_Than_100K|\n",
      "+----------------------------------+\n",
      "|0                                 |\n",
      "+----------------------------------+\n",
      "\n"
     ]
    }
   ],
   "source": [
    "query_6 = spark.sql('''\n",
    "    SELECT COUNT(*) AS Count_Writers_Icome_Less_Than_100K\n",
    "    FROM Temporary_HBase_Table\n",
    "    WHERE `worker:Job` = 'writer' AND `worker:Income` < 100000;\n",
    "''')\n",
    "\n",
    "query_6.show(truncate = False)"
   ]
  },
  {
   "cell_type": "code",
   "execution_count": 46,
   "id": "2cd907ab",
   "metadata": {},
   "outputs": [
    {
     "name": "stdout",
     "output_type": "stream",
     "text": [
      "How many writers earn less than 100K?: 0 writers.\n"
     ]
    }
   ],
   "source": [
    "query6_sql = query_6.first()[0]\n",
    "print('How many writers earn less than 100K?:', query6_sql, 'writers.')"
   ]
  },
  {
   "cell_type": "markdown",
   "id": "b34b66a4",
   "metadata": {},
   "source": [
    "#### Now, lets finish and close connection."
   ]
  },
  {
   "cell_type": "code",
   "execution_count": 49,
   "id": "9456688e",
   "metadata": {},
   "outputs": [],
   "source": [
    "connection.close() # closing conneciton"
   ]
  },
  {
   "cell_type": "markdown",
   "id": "555d4306",
   "metadata": {},
   "source": [
    "# References:\n",
    "\n",
    "PySpark SQL:\n",
    "\n",
    "- Checking for temporary table: https://stackoverflow.com/questions/58067388/how-to-check-if-a-hive-table-exists-using-pyspark\n",
    "\n",
    "- SQL AGG and Scalar functions: https://www.geeksforgeeks.org/sql-functions-aggregate-scalar-functions/\n",
    "\n",
    "- SQL Queries in PySpark: https://medium.datadriveninvestor.com/pyspark-sql-and-dataframes-4c821615eafe\n",
    "\n",
    "- SQL Tutorial/Functions: http://www-db.deis.unibo.it/courses/TW/DOCS/w3schools/sql/sql_alias.asp.html#gsc.tab=0\n",
    "\n",
    "- Useful SQL SYNTAX: https://stackoverflow.com/questions/5391564/how-to-use-distinct-and-order-by-in-same-select-statement\n",
    "\n",
    "- HomeWork4"
   ]
  }
 ],
 "metadata": {
  "kernelspec": {
   "display_name": "Python 3 (ipykernel)",
   "language": "python",
   "name": "python3"
  },
  "language_info": {
   "codemirror_mode": {
    "name": "ipython",
    "version": 3
   },
   "file_extension": ".py",
   "mimetype": "text/x-python",
   "name": "python",
   "nbconvert_exporter": "python",
   "pygments_lexer": "ipython3",
   "version": "3.9.12"
  }
 },
 "nbformat": 4,
 "nbformat_minor": 5
}
